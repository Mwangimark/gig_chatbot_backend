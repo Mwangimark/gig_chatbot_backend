{
 "cells": [
  {
   "cell_type": "code",
   "execution_count": 7,
   "id": "508b0aa7",
   "metadata": {},
   "outputs": [],
   "source": [
    "# Step 1: Import necessary things\n",
    "from langchain_core.messages import HumanMessage\n",
    "from chatbot.langgraph_flow import gig_chatbot_graph  # Adjust path if needed\n"
   ]
  },
  {
   "cell_type": "code",
   "execution_count": 8,
   "id": "60fe2381",
   "metadata": {},
   "outputs": [],
   "source": [
    "# Cell 1: Imports\n",
    "from langgraph.graph import StateGraph\n",
    "from langgraph.graph.graph import END\n",
    "from langchain_core.messages import HumanMessage, AIMessage\n",
    "from typing import Annotated, List, TypedDict"
   ]
  },
  {
   "cell_type": "code",
   "execution_count": 9,
   "id": "b87fabe7",
   "metadata": {},
   "outputs": [],
   "source": [
    "# Cell 2: Define the state\n",
    "class ChatbotState(TypedDict):\n",
    "    messages: Annotated[List[HumanMessage | AIMessage], lambda x: x[-10:]]\n"
   ]
  },
  {
   "cell_type": "code",
   "execution_count": 10,
   "id": "5ca87cc7",
   "metadata": {},
   "outputs": [],
   "source": [
    "# Cell 3: Define the start node\n",
    "def start_node(state: ChatbotState) -> ChatbotState:\n",
    "    print(\"📍 Running start_node\")\n",
    "    messages = state[\"messages\"]\n",
    "    messages.append(AIMessage(content=\"Hi there! I’m your assistant. How can I help you today?\"))\n",
    "    return {\"messages\": messages}"
   ]
  },
  {
   "cell_type": "code",
   "execution_count": 11,
   "id": "7dceb427",
   "metadata": {},
   "outputs": [],
   "source": [
    "# Cell 4: Build the graph\n",
    "def build_graph():\n",
    "    builder = StateGraph(ChatbotState)\n",
    "\n",
    "    # Define the nodes\n",
    "    builder.add_node(\"start\", start_node)\n",
    "\n",
    "    # Entry point\n",
    "    builder.set_entry_point(\"start\")\n",
    "\n",
    "    # End the graph after this node for now\n",
    "    builder.add_edge(\"start\", END)\n",
    "\n",
    "    return builder.compile()"
   ]
  },
  {
   "cell_type": "code",
   "execution_count": 14,
   "id": "af057302",
   "metadata": {},
   "outputs": [
    {
     "ename": "KeyError",
     "evalue": "'__start__'",
     "output_type": "error",
     "traceback": [
      "\u001b[0;31m---------------------------------------------------------------------------\u001b[0m",
      "\u001b[0;31mKeyError\u001b[0m                                  Traceback (most recent call last)",
      "Cell \u001b[0;32mIn[14], line 12\u001b[0m\n\u001b[1;32m      9\u001b[0m state \u001b[38;5;241m=\u001b[39m {\u001b[38;5;124m\"\u001b[39m\u001b[38;5;124mmessages\u001b[39m\u001b[38;5;124m\"\u001b[39m: [user_input]}\n\u001b[1;32m     11\u001b[0m \u001b[38;5;66;03m# Run the graph\u001b[39;00m\n\u001b[0;32m---> 12\u001b[0m final_state \u001b[38;5;241m=\u001b[39m \u001b[43mgraph\u001b[49m\u001b[38;5;241;43m.\u001b[39;49m\u001b[43minvoke\u001b[49m\u001b[43m(\u001b[49m\u001b[43mstate\u001b[49m\u001b[43m)\u001b[49m\n\u001b[1;32m     14\u001b[0m \u001b[38;5;28mprint\u001b[39m(\u001b[38;5;124m\"\u001b[39m\u001b[38;5;124m✅ Final State:\u001b[39m\u001b[38;5;124m\"\u001b[39m)\n\u001b[1;32m     15\u001b[0m \u001b[38;5;28;01mfor\u001b[39;00m msg \u001b[38;5;129;01min\u001b[39;00m final_state[\u001b[38;5;124m\"\u001b[39m\u001b[38;5;124mmessages\u001b[39m\u001b[38;5;124m\"\u001b[39m]:\n",
      "File \u001b[0;32m~/Zynamis/gig_chatbot_backend/venv/lib/python3.10/site-packages/langgraph/pregel/__init__.py:1245\u001b[0m, in \u001b[0;36mPregel.invoke\u001b[0;34m(self, input, config, stream_mode, output_keys, input_keys, interrupt_before, interrupt_after, debug, **kwargs)\u001b[0m\n\u001b[1;32m   1243\u001b[0m \u001b[38;5;28;01melse\u001b[39;00m:\n\u001b[1;32m   1244\u001b[0m     chunks \u001b[38;5;241m=\u001b[39m []\n\u001b[0;32m-> 1245\u001b[0m \u001b[38;5;28;01mfor\u001b[39;00m chunk \u001b[38;5;129;01min\u001b[39;00m \u001b[38;5;28mself\u001b[39m\u001b[38;5;241m.\u001b[39mstream(\n\u001b[1;32m   1246\u001b[0m     \u001b[38;5;28minput\u001b[39m,\n\u001b[1;32m   1247\u001b[0m     config,\n\u001b[1;32m   1248\u001b[0m     stream_mode\u001b[38;5;241m=\u001b[39mstream_mode,\n\u001b[1;32m   1249\u001b[0m     output_keys\u001b[38;5;241m=\u001b[39moutput_keys,\n\u001b[1;32m   1250\u001b[0m     input_keys\u001b[38;5;241m=\u001b[39minput_keys,\n\u001b[1;32m   1251\u001b[0m     interrupt_before\u001b[38;5;241m=\u001b[39minterrupt_before,\n\u001b[1;32m   1252\u001b[0m     interrupt_after\u001b[38;5;241m=\u001b[39minterrupt_after,\n\u001b[1;32m   1253\u001b[0m     debug\u001b[38;5;241m=\u001b[39mdebug,\n\u001b[1;32m   1254\u001b[0m     \u001b[38;5;241m*\u001b[39m\u001b[38;5;241m*\u001b[39mkwargs,\n\u001b[1;32m   1255\u001b[0m ):\n\u001b[1;32m   1256\u001b[0m     \u001b[38;5;28;01mif\u001b[39;00m stream_mode \u001b[38;5;241m==\u001b[39m \u001b[38;5;124m\"\u001b[39m\u001b[38;5;124mvalues\u001b[39m\u001b[38;5;124m\"\u001b[39m:\n\u001b[1;32m   1257\u001b[0m         latest \u001b[38;5;241m=\u001b[39m chunk\n",
      "File \u001b[0;32m~/Zynamis/gig_chatbot_backend/venv/lib/python3.10/site-packages/langgraph/pregel/__init__.py:740\u001b[0m, in \u001b[0;36mPregel.stream\u001b[0;34m(self, input, config, stream_mode, output_keys, input_keys, interrupt_before, interrupt_after, debug)\u001b[0m\n\u001b[1;32m    730\u001b[0m \u001b[38;5;28;01mwith\u001b[39;00m ChannelsManager(\n\u001b[1;32m    731\u001b[0m     \u001b[38;5;28mself\u001b[39m\u001b[38;5;241m.\u001b[39mchannels, checkpoint\n\u001b[1;32m    732\u001b[0m ) \u001b[38;5;28;01mas\u001b[39;00m channels, get_executor_for_config(\n\u001b[0;32m   (...)\u001b[0m\n\u001b[1;32m    736\u001b[0m ) \u001b[38;5;28;01mas\u001b[39;00m managed:\n\u001b[1;32m    737\u001b[0m     \u001b[38;5;66;03m# map inputs to channel updates\u001b[39;00m\n\u001b[1;32m    738\u001b[0m     \u001b[38;5;28;01mif\u001b[39;00m input_writes \u001b[38;5;241m:=\u001b[39m deque(map_input(input_keys, \u001b[38;5;28minput\u001b[39m)):\n\u001b[1;32m    739\u001b[0m         \u001b[38;5;66;03m# discard any unfinished tasks from previous checkpoint\u001b[39;00m\n\u001b[0;32m--> 740\u001b[0m         checkpoint, _ \u001b[38;5;241m=\u001b[39m \u001b[43m_prepare_next_tasks\u001b[49m\u001b[43m(\u001b[49m\n\u001b[1;32m    741\u001b[0m \u001b[43m            \u001b[49m\u001b[43mcheckpoint\u001b[49m\u001b[43m,\u001b[49m\n\u001b[1;32m    742\u001b[0m \u001b[43m            \u001b[49m\u001b[43mprocesses\u001b[49m\u001b[43m,\u001b[49m\n\u001b[1;32m    743\u001b[0m \u001b[43m            \u001b[49m\u001b[43mchannels\u001b[49m\u001b[43m,\u001b[49m\n\u001b[1;32m    744\u001b[0m \u001b[43m            \u001b[49m\u001b[43mmanaged\u001b[49m\u001b[43m,\u001b[49m\n\u001b[1;32m    745\u001b[0m \u001b[43m            \u001b[49m\u001b[43mconfig\u001b[49m\u001b[43m,\u001b[49m\n\u001b[1;32m    746\u001b[0m \u001b[43m            \u001b[49m\u001b[38;5;241;43m-\u001b[39;49m\u001b[38;5;241;43m1\u001b[39;49m\u001b[43m,\u001b[49m\n\u001b[1;32m    747\u001b[0m \u001b[43m            \u001b[49m\u001b[43mfor_execution\u001b[49m\u001b[38;5;241;43m=\u001b[39;49m\u001b[38;5;28;43;01mTrue\u001b[39;49;00m\u001b[43m,\u001b[49m\n\u001b[1;32m    748\u001b[0m \u001b[43m        \u001b[49m\u001b[43m)\u001b[49m\n\u001b[1;32m    749\u001b[0m         \u001b[38;5;66;03m# apply input writes\u001b[39;00m\n\u001b[1;32m    750\u001b[0m         _apply_writes(checkpoint, channels, input_writes)\n",
      "File \u001b[0;32m~/Zynamis/gig_chatbot_backend/venv/lib/python3.10/site-packages/langgraph/pregel/__init__.py:1468\u001b[0m, in \u001b[0;36m_prepare_next_tasks\u001b[0;34m(checkpoint, processes, channels, managed, config, step, for_execution, manager)\u001b[0m\n\u001b[1;32m   1465\u001b[0m \u001b[38;5;66;03m# Check if any processes should be run in next step\u001b[39;00m\n\u001b[1;32m   1466\u001b[0m \u001b[38;5;66;03m# If so, prepare the values to be passed to them\u001b[39;00m\n\u001b[1;32m   1467\u001b[0m \u001b[38;5;28;01mfor\u001b[39;00m name, proc \u001b[38;5;129;01min\u001b[39;00m processes\u001b[38;5;241m.\u001b[39mitems():\n\u001b[0;32m-> 1468\u001b[0m     seen \u001b[38;5;241m=\u001b[39m \u001b[43mcheckpoint\u001b[49m\u001b[43m[\u001b[49m\u001b[38;5;124;43m\"\u001b[39;49m\u001b[38;5;124;43mversions_seen\u001b[39;49m\u001b[38;5;124;43m\"\u001b[39;49m\u001b[43m]\u001b[49m\u001b[43m[\u001b[49m\u001b[43mname\u001b[49m\u001b[43m]\u001b[49m\n\u001b[1;32m   1469\u001b[0m     \u001b[38;5;66;03m# If any of the channels read by this process were updated\u001b[39;00m\n\u001b[1;32m   1470\u001b[0m     \u001b[38;5;28;01mif\u001b[39;00m triggers \u001b[38;5;241m:=\u001b[39m [\n\u001b[1;32m   1471\u001b[0m         chan\n\u001b[1;32m   1472\u001b[0m         \u001b[38;5;28;01mfor\u001b[39;00m chan \u001b[38;5;129;01min\u001b[39;00m proc\u001b[38;5;241m.\u001b[39mtriggers\n\u001b[0;32m   (...)\u001b[0m\n\u001b[1;32m   1478\u001b[0m         \u001b[38;5;66;03m# If all trigger channels subscribed by this process are not empty\u001b[39;00m\n\u001b[1;32m   1479\u001b[0m         \u001b[38;5;66;03m# then invoke the process with the values of all non-empty channels\u001b[39;00m\n",
      "\u001b[0;31mKeyError\u001b[0m: '__start__'"
     ]
    }
   ],
   "source": [
    "# Cell 5: Run the graph\n",
    "if __name__ == \"__main__\":\n",
    "    graph = build_graph()\n",
    "\n",
    "    # Example user input\n",
    "    user_input = HumanMessage(content=\"Can you help me register an event?\")\n",
    "\n",
    "    # Initial state\n",
    "    state = {\"messages\": [user_input]}\n",
    "\n",
    "    # Run the graph\n",
    "    final_state = graph.invoke(state)\n",
    "\n",
    "    print(\"✅ Final State:\")\n",
    "    for msg in final_state[\"messages\"]:\n",
    "        print(f\"{msg.type.upper()}: {msg.content}\")"
   ]
  },
  {
   "cell_type": "code",
   "execution_count": 27,
   "id": "f008f32a",
   "metadata": {},
   "outputs": [
    {
     "name": "stdout",
     "output_type": "stream",
     "text": [
      "---- Test 1: known intent ----\n"
     ]
    },
    {
     "ename": "KeyError",
     "evalue": "'__start__'",
     "output_type": "error",
     "traceback": [
      "\u001b[0;31m---------------------------------------------------------------------------\u001b[0m",
      "\u001b[0;31mKeyError\u001b[0m                                  Traceback (most recent call last)",
      "Cell \u001b[0;32mIn[27], line 70\u001b[0m\n\u001b[1;32m     68\u001b[0m \u001b[38;5;28mprint\u001b[39m(\u001b[38;5;124m\"\u001b[39m\u001b[38;5;124m---- Test 1: known intent ----\u001b[39m\u001b[38;5;124m\"\u001b[39m)\n\u001b[1;32m     69\u001b[0m state \u001b[38;5;241m=\u001b[39m {\u001b[38;5;124m\"\u001b[39m\u001b[38;5;124muser_input\u001b[39m\u001b[38;5;124m\"\u001b[39m: \u001b[38;5;124m\"\u001b[39m\u001b[38;5;124mI want to sign up\u001b[39m\u001b[38;5;124m\"\u001b[39m, \u001b[38;5;124m\"\u001b[39m\u001b[38;5;124mintent\u001b[39m\u001b[38;5;124m\"\u001b[39m: \u001b[38;5;124m\"\u001b[39m\u001b[38;5;124mregister_event\u001b[39m\u001b[38;5;124m\"\u001b[39m}\n\u001b[0;32m---> 70\u001b[0m \u001b[38;5;28;01mfor\u001b[39;00m event \u001b[38;5;129;01min\u001b[39;00m gig_chatbot_graph\u001b[38;5;241m.\u001b[39mstream(state):\n\u001b[1;32m     71\u001b[0m     \u001b[38;5;28mprint\u001b[39m(\u001b[38;5;124m\"\u001b[39m\u001b[38;5;124m➡️\u001b[39m\u001b[38;5;124m\"\u001b[39m, event)\n\u001b[1;32m     73\u001b[0m \u001b[38;5;28mprint\u001b[39m(\u001b[38;5;124m\"\u001b[39m\u001b[38;5;130;01m\\n\u001b[39;00m\u001b[38;5;124m---- Test 2: unknown intent ----\u001b[39m\u001b[38;5;124m\"\u001b[39m)\n",
      "File \u001b[0;32m~/Zynamis/gig_chatbot_backend/venv/lib/python3.10/site-packages/langgraph/pregel/__init__.py:740\u001b[0m, in \u001b[0;36mPregel.stream\u001b[0;34m(self, input, config, stream_mode, output_keys, input_keys, interrupt_before, interrupt_after, debug)\u001b[0m\n\u001b[1;32m    730\u001b[0m \u001b[38;5;28;01mwith\u001b[39;00m ChannelsManager(\n\u001b[1;32m    731\u001b[0m     \u001b[38;5;28mself\u001b[39m\u001b[38;5;241m.\u001b[39mchannels, checkpoint\n\u001b[1;32m    732\u001b[0m ) \u001b[38;5;28;01mas\u001b[39;00m channels, get_executor_for_config(\n\u001b[0;32m   (...)\u001b[0m\n\u001b[1;32m    736\u001b[0m ) \u001b[38;5;28;01mas\u001b[39;00m managed:\n\u001b[1;32m    737\u001b[0m     \u001b[38;5;66;03m# map inputs to channel updates\u001b[39;00m\n\u001b[1;32m    738\u001b[0m     \u001b[38;5;28;01mif\u001b[39;00m input_writes \u001b[38;5;241m:=\u001b[39m deque(map_input(input_keys, \u001b[38;5;28minput\u001b[39m)):\n\u001b[1;32m    739\u001b[0m         \u001b[38;5;66;03m# discard any unfinished tasks from previous checkpoint\u001b[39;00m\n\u001b[0;32m--> 740\u001b[0m         checkpoint, _ \u001b[38;5;241m=\u001b[39m \u001b[43m_prepare_next_tasks\u001b[49m\u001b[43m(\u001b[49m\n\u001b[1;32m    741\u001b[0m \u001b[43m            \u001b[49m\u001b[43mcheckpoint\u001b[49m\u001b[43m,\u001b[49m\n\u001b[1;32m    742\u001b[0m \u001b[43m            \u001b[49m\u001b[43mprocesses\u001b[49m\u001b[43m,\u001b[49m\n\u001b[1;32m    743\u001b[0m \u001b[43m            \u001b[49m\u001b[43mchannels\u001b[49m\u001b[43m,\u001b[49m\n\u001b[1;32m    744\u001b[0m \u001b[43m            \u001b[49m\u001b[43mmanaged\u001b[49m\u001b[43m,\u001b[49m\n\u001b[1;32m    745\u001b[0m \u001b[43m            \u001b[49m\u001b[43mconfig\u001b[49m\u001b[43m,\u001b[49m\n\u001b[1;32m    746\u001b[0m \u001b[43m            \u001b[49m\u001b[38;5;241;43m-\u001b[39;49m\u001b[38;5;241;43m1\u001b[39;49m\u001b[43m,\u001b[49m\n\u001b[1;32m    747\u001b[0m \u001b[43m            \u001b[49m\u001b[43mfor_execution\u001b[49m\u001b[38;5;241;43m=\u001b[39;49m\u001b[38;5;28;43;01mTrue\u001b[39;49;00m\u001b[43m,\u001b[49m\n\u001b[1;32m    748\u001b[0m \u001b[43m        \u001b[49m\u001b[43m)\u001b[49m\n\u001b[1;32m    749\u001b[0m         \u001b[38;5;66;03m# apply input writes\u001b[39;00m\n\u001b[1;32m    750\u001b[0m         _apply_writes(checkpoint, channels, input_writes)\n",
      "File \u001b[0;32m~/Zynamis/gig_chatbot_backend/venv/lib/python3.10/site-packages/langgraph/pregel/__init__.py:1468\u001b[0m, in \u001b[0;36m_prepare_next_tasks\u001b[0;34m(checkpoint, processes, channels, managed, config, step, for_execution, manager)\u001b[0m\n\u001b[1;32m   1465\u001b[0m \u001b[38;5;66;03m# Check if any processes should be run in next step\u001b[39;00m\n\u001b[1;32m   1466\u001b[0m \u001b[38;5;66;03m# If so, prepare the values to be passed to them\u001b[39;00m\n\u001b[1;32m   1467\u001b[0m \u001b[38;5;28;01mfor\u001b[39;00m name, proc \u001b[38;5;129;01min\u001b[39;00m processes\u001b[38;5;241m.\u001b[39mitems():\n\u001b[0;32m-> 1468\u001b[0m     seen \u001b[38;5;241m=\u001b[39m \u001b[43mcheckpoint\u001b[49m\u001b[43m[\u001b[49m\u001b[38;5;124;43m\"\u001b[39;49m\u001b[38;5;124;43mversions_seen\u001b[39;49m\u001b[38;5;124;43m\"\u001b[39;49m\u001b[43m]\u001b[49m\u001b[43m[\u001b[49m\u001b[43mname\u001b[49m\u001b[43m]\u001b[49m\n\u001b[1;32m   1469\u001b[0m     \u001b[38;5;66;03m# If any of the channels read by this process were updated\u001b[39;00m\n\u001b[1;32m   1470\u001b[0m     \u001b[38;5;28;01mif\u001b[39;00m triggers \u001b[38;5;241m:=\u001b[39m [\n\u001b[1;32m   1471\u001b[0m         chan\n\u001b[1;32m   1472\u001b[0m         \u001b[38;5;28;01mfor\u001b[39;00m chan \u001b[38;5;129;01min\u001b[39;00m proc\u001b[38;5;241m.\u001b[39mtriggers\n\u001b[0;32m   (...)\u001b[0m\n\u001b[1;32m   1478\u001b[0m         \u001b[38;5;66;03m# If all trigger channels subscribed by this process are not empty\u001b[39;00m\n\u001b[1;32m   1479\u001b[0m         \u001b[38;5;66;03m# then invoke the process with the values of all non-empty channels\u001b[39;00m\n",
      "\u001b[0;31mKeyError\u001b[0m: '__start__'"
     ]
    }
   ],
   "source": [
    "from langgraph.graph import StateGraph, START, END\n",
    "from typing import TypedDict, Optional\n",
    "\n",
    "class ChatState(TypedDict):\n",
    "    user_input: str\n",
    "    intent: Optional[str]\n",
    "\n",
    "def router_node(state: ChatState) -> ChatState:\n",
    "    print(\"🔀 Router received:\", state)\n",
    "    return state\n",
    "\n",
    "def route_from_intent(state: ChatState) -> str:\n",
    "    intent = (state.get(\"intent\") or \"\").strip()\n",
    "    allowed = {\"register_event\", \"rsvp_help\", \"analytics_guide\", \"gig_intro\"}\n",
    "    return intent if intent in allowed else \"fallback\"\n",
    "\n",
    "def register_event(state: ChatState) -> ChatState:\n",
    "    print(\"📌 register_event:\", state); return state\n",
    "\n",
    "def rsvp_help(state: ChatState) -> ChatState:\n",
    "    print(\"📌 rsvp_help:\", state); return state\n",
    "\n",
    "def analytics_guide(state: ChatState) -> ChatState:\n",
    "    print(\"📌 analytics_guide:\", state); return state\n",
    "\n",
    "def gig_intro(state: ChatState) -> ChatState:\n",
    "    print(\"📌 gig_intro:\", state); return state\n",
    "\n",
    "def fallback(state: ChatState) -> ChatState:\n",
    "    print(\"⚠️ fallback:\", state); return state\n",
    "\n",
    "def build_graph():\n",
    "    builder = StateGraph(ChatState)\n",
    "\n",
    "    # nodes\n",
    "    builder.add_node(\"router\", router_node)\n",
    "    builder.add_node(\"register_event\", register_event)\n",
    "    builder.add_node(\"rsvp_help\", rsvp_help)\n",
    "    builder.add_node(\"analytics_guide\", analytics_guide)\n",
    "    builder.add_node(\"gig_intro\", gig_intro)\n",
    "    builder.add_node(\"fallback\", fallback)\n",
    "\n",
    "    # >>> critical entry wiring <<<\n",
    "    builder.add_edge(START, \"router\")\n",
    "\n",
    "    # conditional routing\n",
    "    builder.add_conditional_edges(\n",
    "        \"router\",\n",
    "        route_from_intent,\n",
    "        {\n",
    "            \"register_event\": \"register_event\",\n",
    "            \"rsvp_help\": \"rsvp_help\",\n",
    "            \"analytics_guide\": \"analytics_guide\",\n",
    "            \"gig_intro\": \"gig_intro\",\n",
    "            \"fallback\": \"fallback\",\n",
    "        },\n",
    "    )\n",
    "\n",
    "    # leaves go to END\n",
    "    for node in [\"register_event\", \"rsvp_help\", \"analytics_guide\", \"gig_intro\", \"fallback\"]:\n",
    "        builder.add_edge(node, END)\n",
    "\n",
    "    return builder.compile()\n",
    "\n",
    "gig_chatbot_graph = build_graph()\n",
    "\n",
    "# --- Test\n",
    "print(\"---- Test 1: known intent ----\")\n",
    "state = {\"user_input\": \"I want to sign up\", \"intent\": \"register_event\"}\n",
    "for event in gig_chatbot_graph.stream(state):\n",
    "    print(\"➡️\", event)\n",
    "\n",
    "print(\"\\n---- Test 2: unknown intent ----\")\n",
    "state = {\"user_input\": \"what is this?\", \"intent\": \"unknown\"}\n",
    "for event in gig_chatbot_graph.stream(state):\n",
    "    print(\"➡️\", event)\n"
   ]
  },
  {
   "cell_type": "code",
   "execution_count": 26,
   "id": "fc0ab465",
   "metadata": {},
   "outputs": [
    {
     "name": "stdout",
     "output_type": "stream",
     "text": [
      "---- Test 1: known intent ----\n"
     ]
    },
    {
     "ename": "KeyError",
     "evalue": "'__start__'",
     "output_type": "error",
     "traceback": [
      "\u001b[0;31m---------------------------------------------------------------------------\u001b[0m",
      "\u001b[0;31mKeyError\u001b[0m                                  Traceback (most recent call last)",
      "Cell \u001b[0;32mIn[26], line 3\u001b[0m\n\u001b[1;32m      1\u001b[0m \u001b[38;5;28mprint\u001b[39m(\u001b[38;5;124m\"\u001b[39m\u001b[38;5;124m---- Test 1: known intent ----\u001b[39m\u001b[38;5;124m\"\u001b[39m)\n\u001b[1;32m      2\u001b[0m state \u001b[38;5;241m=\u001b[39m {\u001b[38;5;124m\"\u001b[39m\u001b[38;5;124muser_input\u001b[39m\u001b[38;5;124m\"\u001b[39m: \u001b[38;5;124m\"\u001b[39m\u001b[38;5;124mI want to sign up\u001b[39m\u001b[38;5;124m\"\u001b[39m, \u001b[38;5;124m\"\u001b[39m\u001b[38;5;124mintent\u001b[39m\u001b[38;5;124m\"\u001b[39m: \u001b[38;5;124m\"\u001b[39m\u001b[38;5;124mregister_event\u001b[39m\u001b[38;5;124m\"\u001b[39m}\n\u001b[0;32m----> 3\u001b[0m \u001b[38;5;28;01mfor\u001b[39;00m event \u001b[38;5;129;01min\u001b[39;00m gig_chatbot_graph\u001b[38;5;241m.\u001b[39mstream(state):\n\u001b[1;32m      4\u001b[0m     \u001b[38;5;28mprint\u001b[39m(\u001b[38;5;124m\"\u001b[39m\u001b[38;5;124m➡️ Event:\u001b[39m\u001b[38;5;124m\"\u001b[39m, event)\n\u001b[1;32m      6\u001b[0m \u001b[38;5;28mprint\u001b[39m(\u001b[38;5;124m\"\u001b[39m\u001b[38;5;130;01m\\n\u001b[39;00m\u001b[38;5;124m---- Test 2: unknown intent ----\u001b[39m\u001b[38;5;124m\"\u001b[39m)\n",
      "File \u001b[0;32m~/Zynamis/gig_chatbot_backend/venv/lib/python3.10/site-packages/langgraph/pregel/__init__.py:740\u001b[0m, in \u001b[0;36mPregel.stream\u001b[0;34m(self, input, config, stream_mode, output_keys, input_keys, interrupt_before, interrupt_after, debug)\u001b[0m\n\u001b[1;32m    730\u001b[0m \u001b[38;5;28;01mwith\u001b[39;00m ChannelsManager(\n\u001b[1;32m    731\u001b[0m     \u001b[38;5;28mself\u001b[39m\u001b[38;5;241m.\u001b[39mchannels, checkpoint\n\u001b[1;32m    732\u001b[0m ) \u001b[38;5;28;01mas\u001b[39;00m channels, get_executor_for_config(\n\u001b[0;32m   (...)\u001b[0m\n\u001b[1;32m    736\u001b[0m ) \u001b[38;5;28;01mas\u001b[39;00m managed:\n\u001b[1;32m    737\u001b[0m     \u001b[38;5;66;03m# map inputs to channel updates\u001b[39;00m\n\u001b[1;32m    738\u001b[0m     \u001b[38;5;28;01mif\u001b[39;00m input_writes \u001b[38;5;241m:=\u001b[39m deque(map_input(input_keys, \u001b[38;5;28minput\u001b[39m)):\n\u001b[1;32m    739\u001b[0m         \u001b[38;5;66;03m# discard any unfinished tasks from previous checkpoint\u001b[39;00m\n\u001b[0;32m--> 740\u001b[0m         checkpoint, _ \u001b[38;5;241m=\u001b[39m \u001b[43m_prepare_next_tasks\u001b[49m\u001b[43m(\u001b[49m\n\u001b[1;32m    741\u001b[0m \u001b[43m            \u001b[49m\u001b[43mcheckpoint\u001b[49m\u001b[43m,\u001b[49m\n\u001b[1;32m    742\u001b[0m \u001b[43m            \u001b[49m\u001b[43mprocesses\u001b[49m\u001b[43m,\u001b[49m\n\u001b[1;32m    743\u001b[0m \u001b[43m            \u001b[49m\u001b[43mchannels\u001b[49m\u001b[43m,\u001b[49m\n\u001b[1;32m    744\u001b[0m \u001b[43m            \u001b[49m\u001b[43mmanaged\u001b[49m\u001b[43m,\u001b[49m\n\u001b[1;32m    745\u001b[0m \u001b[43m            \u001b[49m\u001b[43mconfig\u001b[49m\u001b[43m,\u001b[49m\n\u001b[1;32m    746\u001b[0m \u001b[43m            \u001b[49m\u001b[38;5;241;43m-\u001b[39;49m\u001b[38;5;241;43m1\u001b[39;49m\u001b[43m,\u001b[49m\n\u001b[1;32m    747\u001b[0m \u001b[43m            \u001b[49m\u001b[43mfor_execution\u001b[49m\u001b[38;5;241;43m=\u001b[39;49m\u001b[38;5;28;43;01mTrue\u001b[39;49;00m\u001b[43m,\u001b[49m\n\u001b[1;32m    748\u001b[0m \u001b[43m        \u001b[49m\u001b[43m)\u001b[49m\n\u001b[1;32m    749\u001b[0m         \u001b[38;5;66;03m# apply input writes\u001b[39;00m\n\u001b[1;32m    750\u001b[0m         _apply_writes(checkpoint, channels, input_writes)\n",
      "File \u001b[0;32m~/Zynamis/gig_chatbot_backend/venv/lib/python3.10/site-packages/langgraph/pregel/__init__.py:1468\u001b[0m, in \u001b[0;36m_prepare_next_tasks\u001b[0;34m(checkpoint, processes, channels, managed, config, step, for_execution, manager)\u001b[0m\n\u001b[1;32m   1465\u001b[0m \u001b[38;5;66;03m# Check if any processes should be run in next step\u001b[39;00m\n\u001b[1;32m   1466\u001b[0m \u001b[38;5;66;03m# If so, prepare the values to be passed to them\u001b[39;00m\n\u001b[1;32m   1467\u001b[0m \u001b[38;5;28;01mfor\u001b[39;00m name, proc \u001b[38;5;129;01min\u001b[39;00m processes\u001b[38;5;241m.\u001b[39mitems():\n\u001b[0;32m-> 1468\u001b[0m     seen \u001b[38;5;241m=\u001b[39m \u001b[43mcheckpoint\u001b[49m\u001b[43m[\u001b[49m\u001b[38;5;124;43m\"\u001b[39;49m\u001b[38;5;124;43mversions_seen\u001b[39;49m\u001b[38;5;124;43m\"\u001b[39;49m\u001b[43m]\u001b[49m\u001b[43m[\u001b[49m\u001b[43mname\u001b[49m\u001b[43m]\u001b[49m\n\u001b[1;32m   1469\u001b[0m     \u001b[38;5;66;03m# If any of the channels read by this process were updated\u001b[39;00m\n\u001b[1;32m   1470\u001b[0m     \u001b[38;5;28;01mif\u001b[39;00m triggers \u001b[38;5;241m:=\u001b[39m [\n\u001b[1;32m   1471\u001b[0m         chan\n\u001b[1;32m   1472\u001b[0m         \u001b[38;5;28;01mfor\u001b[39;00m chan \u001b[38;5;129;01min\u001b[39;00m proc\u001b[38;5;241m.\u001b[39mtriggers\n\u001b[0;32m   (...)\u001b[0m\n\u001b[1;32m   1478\u001b[0m         \u001b[38;5;66;03m# If all trigger channels subscribed by this process are not empty\u001b[39;00m\n\u001b[1;32m   1479\u001b[0m         \u001b[38;5;66;03m# then invoke the process with the values of all non-empty channels\u001b[39;00m\n",
      "\u001b[0;31mKeyError\u001b[0m: '__start__'"
     ]
    }
   ],
   "source": [
    "print(\"---- Test 1: known intent ----\")\n",
    "state = {\"user_input\": \"I want to sign up\", \"intent\": \"register_event\"}\n",
    "for event in gig_chatbot_graph.stream(state):\n",
    "    print(\"➡️ Event:\", event)\n",
    "\n",
    "print(\"\\n---- Test 2: unknown intent ----\")\n",
    "state = {\"user_input\": \"what is this?\", \"intent\": \"unknown\"}\n",
    "for event in gig_chatbot_graph.stream(state):\n",
    "    print(\"➡️ Event:\", event)\n"
   ]
  },
  {
   "cell_type": "code",
   "execution_count": null,
   "id": "ef08957f",
   "metadata": {},
   "outputs": [],
   "source": []
  }
 ],
 "metadata": {
  "kernelspec": {
   "display_name": "venv",
   "language": "python",
   "name": "python3"
  },
  "language_info": {
   "codemirror_mode": {
    "name": "ipython",
    "version": 3
   },
   "file_extension": ".py",
   "mimetype": "text/x-python",
   "name": "python",
   "nbconvert_exporter": "python",
   "pygments_lexer": "ipython3",
   "version": "3.10.12"
  }
 },
 "nbformat": 4,
 "nbformat_minor": 5
}
