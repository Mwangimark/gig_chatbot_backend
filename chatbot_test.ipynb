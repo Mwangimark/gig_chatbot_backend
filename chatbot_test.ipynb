{
 "cells": [
  {
   "cell_type": "code",
   "execution_count": 2,
   "id": "b032c6c0",
   "metadata": {},
   "outputs": [
    {
     "name": "stdout",
     "output_type": "stream",
     "text": [
      "Name: langgraph\n",
      "Version: 0.0.50\n",
      "Summary: langgraph\n",
      "Home-page: https://www.github.com/langchain-ai/langgraph\n",
      "Author: \n",
      "Author-email: \n",
      "License: MIT\n",
      "Location: /home/mark/Zynamis/gig_chatbot_backend/venv/lib/python3.10/site-packages\n",
      "Requires: langchain-core, uuid6\n",
      "Required-by: \n"
     ]
    }
   ],
   "source": [
    "!pip show langgraph\n"
   ]
  },
  {
   "cell_type": "code",
   "execution_count": 3,
   "id": "db434abc",
   "metadata": {},
   "outputs": [
    {
     "name": "stdout",
     "output_type": "stream",
     "text": [
      "✅ Graph compiled. Using START entry: True\n"
     ]
    },
    {
     "name": "stderr",
     "output_type": "stream",
     "text": [
      "/home/mark/Zynamis/gig_chatbot_backend/venv/lib/python3.10/site-packages/langgraph/graph/graph.py:30: LangChainDeprecationWarning: As of langchain-core 0.3.0, LangChain uses pydantic v2 internally. The langchain_core.pydantic_v1 module was a compatibility shim for pydantic v1, and should no longer be used. Please update the code to import from Pydantic directly.\n",
      "\n",
      "For example, replace imports like: `from langchain_core.pydantic_v1 import BaseModel`\n",
      "with: `from pydantic import BaseModel`\n",
      "or the v1 compatibility namespace if you are working in a code base that has not been fully upgraded to pydantic 2 yet. \tfrom pydantic.v1 import BaseModel\n",
      "\n",
      "  from langgraph.pregel import Channel, Pregel\n"
     ]
    }
   ],
   "source": [
    "# --- LangGraph compatibility imports ---\n",
    "try:\n",
    "    # v0.2+ has START\n",
    "    from langgraph.graph import StateGraph, START, END\n",
    "    _USE_START = True\n",
    "except Exception:\n",
    "    # v0.1.x (no START)\n",
    "    from langgraph.graph import StateGraph, END\n",
    "    START = None\n",
    "    _USE_START = False\n",
    "\n",
    "from typing import TypedDict, Optional\n",
    "\n",
    "# --- State type ---\n",
    "class ChatState(TypedDict):\n",
    "    user_input: str\n",
    "    intent: Optional[str]\n",
    "\n",
    "# --- Provide a minimal start node (used only on old versions) ---\n",
    "def _start_node(state: ChatState) -> ChatState:\n",
    "    print(\"▶️ start:\", state)\n",
    "    return state\n",
    "\n",
    "# --- Your router + intent logic ---\n",
    "def router_node(state: ChatState) -> ChatState:\n",
    "    print(\"🔀 router received:\", state)\n",
    "    return state\n",
    "\n",
    "def route_from_intent(state: ChatState) -> str:\n",
    "    intent = (state.get(\"intent\") or \"\").strip()\n",
    "    allowed = {\"register_event\", \"rsvp_help\", \"analytics_guide\", \"gig_intro\"}\n",
    "    return intent if intent in allowed else \"fallback\"\n",
    "\n",
    "# If you already defined these in your project, you can remove these stubs.\n",
    "def register_event(state: ChatState) -> ChatState:\n",
    "    print(\"📌 register_event\"); return state\n",
    "def rsvp_help(state: ChatState) -> ChatState:\n",
    "    print(\"📌 rsvp_help\"); return state\n",
    "def analytics_guide(state: ChatState) -> ChatState:\n",
    "    print(\"📌 analytics_guide\"); return state\n",
    "def gig_intro(state: ChatState) -> ChatState:\n",
    "    print(\"📌 gig_intro\"); return state\n",
    "def fallback(state: ChatState) -> ChatState:\n",
    "    print(\"⚠️ fallback\"); return state\n",
    "\n",
    "def build_graph_compat() -> \"Pregel\":  # runtime returns a compiled graph\n",
    "    builder = StateGraph(ChatState)\n",
    "\n",
    "    # Nodes\n",
    "    builder.add_node(\"router\", router_node)\n",
    "    builder.add_node(\"register_event\", register_event)\n",
    "    builder.add_node(\"rsvp_help\", rsvp_help)\n",
    "    builder.add_node(\"analytics_guide\", analytics_guide)\n",
    "    builder.add_node(\"gig_intro\", gig_intro)\n",
    "    builder.add_node(\"fallback\", fallback)\n",
    "\n",
    "    # Entry wiring differs by version\n",
    "    if _USE_START:\n",
    "        # v0.2+: explicit START edge is required\n",
    "        builder.add_edge(START, \"router\")\n",
    "    else:\n",
    "        # v0.1.x: use a start node + set_entry_point\n",
    "        builder.add_node(\"start\", _start_node)\n",
    "        builder.add_edge(\"start\", \"router\")\n",
    "        builder.set_entry_point(\"start\")\n",
    "\n",
    "    # Conditional routing from router\n",
    "    builder.add_conditional_edges(\n",
    "        \"router\",\n",
    "        route_from_intent,\n",
    "        {\n",
    "            \"register_event\": \"register_event\",\n",
    "            \"rsvp_help\": \"rsvp_help\",\n",
    "            \"analytics_guide\": \"analytics_guide\",\n",
    "            \"gig_intro\": \"gig_intro\",\n",
    "            \"fallback\": \"fallback\",\n",
    "        },\n",
    "    )\n",
    "\n",
    "    # All leaves must terminate at END\n",
    "    for node in [\"register_event\", \"rsvp_help\", \"analytics_guide\", \"gig_intro\", \"fallback\"]:\n",
    "        builder.add_edge(node, END)\n",
    "\n",
    "    return builder.compile()\n",
    "\n",
    "gig_chatbot_graph = build_graph_compat()\n",
    "print(\"✅ Graph compiled. Using START entry:\", _USE_START)\n"
   ]
  },
  {
   "cell_type": "code",
   "execution_count": 4,
   "id": "93fcc1d5",
   "metadata": {},
   "outputs": [
    {
     "name": "stdout",
     "output_type": "stream",
     "text": [
      "---- Test 1: known intent ----\n"
     ]
    },
    {
     "ename": "KeyError",
     "evalue": "'__start__'",
     "output_type": "error",
     "traceback": [
      "\u001b[0;31m---------------------------------------------------------------------------\u001b[0m",
      "\u001b[0;31mKeyError\u001b[0m                                  Traceback (most recent call last)",
      "Cell \u001b[0;32mIn[4], line 3\u001b[0m\n\u001b[1;32m      1\u001b[0m \u001b[38;5;28mprint\u001b[39m(\u001b[38;5;124m\"\u001b[39m\u001b[38;5;124m---- Test 1: known intent ----\u001b[39m\u001b[38;5;124m\"\u001b[39m)\n\u001b[1;32m      2\u001b[0m state \u001b[38;5;241m=\u001b[39m {\u001b[38;5;124m\"\u001b[39m\u001b[38;5;124muser_input\u001b[39m\u001b[38;5;124m\"\u001b[39m: \u001b[38;5;124m\"\u001b[39m\u001b[38;5;124mI want to sign up\u001b[39m\u001b[38;5;124m\"\u001b[39m, \u001b[38;5;124m\"\u001b[39m\u001b[38;5;124mintent\u001b[39m\u001b[38;5;124m\"\u001b[39m: \u001b[38;5;124m\"\u001b[39m\u001b[38;5;124mregister_event\u001b[39m\u001b[38;5;124m\"\u001b[39m}\n\u001b[0;32m----> 3\u001b[0m \u001b[38;5;28;01mfor\u001b[39;00m event \u001b[38;5;129;01min\u001b[39;00m gig_chatbot_graph\u001b[38;5;241m.\u001b[39mstream(state):\n\u001b[1;32m      4\u001b[0m     \u001b[38;5;28mprint\u001b[39m(\u001b[38;5;124m\"\u001b[39m\u001b[38;5;124m➡️\u001b[39m\u001b[38;5;124m\"\u001b[39m, event)\n\u001b[1;32m      6\u001b[0m \u001b[38;5;28mprint\u001b[39m(\u001b[38;5;124m\"\u001b[39m\u001b[38;5;130;01m\\n\u001b[39;00m\u001b[38;5;124m---- Test 2: unknown intent (fallback) ----\u001b[39m\u001b[38;5;124m\"\u001b[39m)\n",
      "File \u001b[0;32m~/Zynamis/gig_chatbot_backend/venv/lib/python3.10/site-packages/langgraph/pregel/__init__.py:740\u001b[0m, in \u001b[0;36mPregel.stream\u001b[0;34m(self, input, config, stream_mode, output_keys, input_keys, interrupt_before, interrupt_after, debug)\u001b[0m\n\u001b[1;32m    730\u001b[0m \u001b[38;5;28;01mwith\u001b[39;00m ChannelsManager(\n\u001b[1;32m    731\u001b[0m     \u001b[38;5;28mself\u001b[39m\u001b[38;5;241m.\u001b[39mchannels, checkpoint\n\u001b[1;32m    732\u001b[0m ) \u001b[38;5;28;01mas\u001b[39;00m channels, get_executor_for_config(\n\u001b[0;32m   (...)\u001b[0m\n\u001b[1;32m    736\u001b[0m ) \u001b[38;5;28;01mas\u001b[39;00m managed:\n\u001b[1;32m    737\u001b[0m     \u001b[38;5;66;03m# map inputs to channel updates\u001b[39;00m\n\u001b[1;32m    738\u001b[0m     \u001b[38;5;28;01mif\u001b[39;00m input_writes \u001b[38;5;241m:=\u001b[39m deque(map_input(input_keys, \u001b[38;5;28minput\u001b[39m)):\n\u001b[1;32m    739\u001b[0m         \u001b[38;5;66;03m# discard any unfinished tasks from previous checkpoint\u001b[39;00m\n\u001b[0;32m--> 740\u001b[0m         checkpoint, _ \u001b[38;5;241m=\u001b[39m \u001b[43m_prepare_next_tasks\u001b[49m\u001b[43m(\u001b[49m\n\u001b[1;32m    741\u001b[0m \u001b[43m            \u001b[49m\u001b[43mcheckpoint\u001b[49m\u001b[43m,\u001b[49m\n\u001b[1;32m    742\u001b[0m \u001b[43m            \u001b[49m\u001b[43mprocesses\u001b[49m\u001b[43m,\u001b[49m\n\u001b[1;32m    743\u001b[0m \u001b[43m            \u001b[49m\u001b[43mchannels\u001b[49m\u001b[43m,\u001b[49m\n\u001b[1;32m    744\u001b[0m \u001b[43m            \u001b[49m\u001b[43mmanaged\u001b[49m\u001b[43m,\u001b[49m\n\u001b[1;32m    745\u001b[0m \u001b[43m            \u001b[49m\u001b[43mconfig\u001b[49m\u001b[43m,\u001b[49m\n\u001b[1;32m    746\u001b[0m \u001b[43m            \u001b[49m\u001b[38;5;241;43m-\u001b[39;49m\u001b[38;5;241;43m1\u001b[39;49m\u001b[43m,\u001b[49m\n\u001b[1;32m    747\u001b[0m \u001b[43m            \u001b[49m\u001b[43mfor_execution\u001b[49m\u001b[38;5;241;43m=\u001b[39;49m\u001b[38;5;28;43;01mTrue\u001b[39;49;00m\u001b[43m,\u001b[49m\n\u001b[1;32m    748\u001b[0m \u001b[43m        \u001b[49m\u001b[43m)\u001b[49m\n\u001b[1;32m    749\u001b[0m         \u001b[38;5;66;03m# apply input writes\u001b[39;00m\n\u001b[1;32m    750\u001b[0m         _apply_writes(checkpoint, channels, input_writes)\n",
      "File \u001b[0;32m~/Zynamis/gig_chatbot_backend/venv/lib/python3.10/site-packages/langgraph/pregel/__init__.py:1468\u001b[0m, in \u001b[0;36m_prepare_next_tasks\u001b[0;34m(checkpoint, processes, channels, managed, config, step, for_execution, manager)\u001b[0m\n\u001b[1;32m   1465\u001b[0m \u001b[38;5;66;03m# Check if any processes should be run in next step\u001b[39;00m\n\u001b[1;32m   1466\u001b[0m \u001b[38;5;66;03m# If so, prepare the values to be passed to them\u001b[39;00m\n\u001b[1;32m   1467\u001b[0m \u001b[38;5;28;01mfor\u001b[39;00m name, proc \u001b[38;5;129;01min\u001b[39;00m processes\u001b[38;5;241m.\u001b[39mitems():\n\u001b[0;32m-> 1468\u001b[0m     seen \u001b[38;5;241m=\u001b[39m \u001b[43mcheckpoint\u001b[49m\u001b[43m[\u001b[49m\u001b[38;5;124;43m\"\u001b[39;49m\u001b[38;5;124;43mversions_seen\u001b[39;49m\u001b[38;5;124;43m\"\u001b[39;49m\u001b[43m]\u001b[49m\u001b[43m[\u001b[49m\u001b[43mname\u001b[49m\u001b[43m]\u001b[49m\n\u001b[1;32m   1469\u001b[0m     \u001b[38;5;66;03m# If any of the channels read by this process were updated\u001b[39;00m\n\u001b[1;32m   1470\u001b[0m     \u001b[38;5;28;01mif\u001b[39;00m triggers \u001b[38;5;241m:=\u001b[39m [\n\u001b[1;32m   1471\u001b[0m         chan\n\u001b[1;32m   1472\u001b[0m         \u001b[38;5;28;01mfor\u001b[39;00m chan \u001b[38;5;129;01min\u001b[39;00m proc\u001b[38;5;241m.\u001b[39mtriggers\n\u001b[0;32m   (...)\u001b[0m\n\u001b[1;32m   1478\u001b[0m         \u001b[38;5;66;03m# If all trigger channels subscribed by this process are not empty\u001b[39;00m\n\u001b[1;32m   1479\u001b[0m         \u001b[38;5;66;03m# then invoke the process with the values of all non-empty channels\u001b[39;00m\n",
      "\u001b[0;31mKeyError\u001b[0m: '__start__'"
     ]
    }
   ],
   "source": [
    "print(\"---- Test 1: known intent ----\")\n",
    "state = {\"user_input\": \"I want to sign up\", \"intent\": \"register_event\"}\n",
    "for event in gig_chatbot_graph.stream(state):\n",
    "    print(\"➡️\", event)\n",
    "\n",
    "print(\"\\n---- Test 2: unknown intent (fallback) ----\")\n",
    "state = {\"user_input\": \"what is this?\", \"intent\": \"unknown\"}\n",
    "for event in gig_chatbot_graph.stream(state):\n",
    "    print(\"➡️\", event)\n"
   ]
  },
  {
   "cell_type": "code",
   "execution_count": null,
   "id": "73b96f9c",
   "metadata": {},
   "outputs": [],
   "source": []
  }
 ],
 "metadata": {
  "kernelspec": {
   "display_name": "venv",
   "language": "python",
   "name": "python3"
  },
  "language_info": {
   "codemirror_mode": {
    "name": "ipython",
    "version": 3
   },
   "file_extension": ".py",
   "mimetype": "text/x-python",
   "name": "python",
   "nbconvert_exporter": "python",
   "pygments_lexer": "ipython3",
   "version": "3.10.12"
  }
 },
 "nbformat": 4,
 "nbformat_minor": 5
}
